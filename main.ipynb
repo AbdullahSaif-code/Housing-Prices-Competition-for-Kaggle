{
 "cells": [
  {
   "cell_type": "markdown",
   "id": "dd54e579",
   "metadata": {},
   "source": [
    "## Imports and Setup"
   ]
  },
  {
   "cell_type": "code",
   "execution_count": 1,
   "id": "14599476",
   "metadata": {},
   "outputs": [],
   "source": [
    "import pandas as pd\n",
    "import numpy as np\n",
    "from sklearn.model_selection import train_test_split, KFold, cross_val_score\n",
    "from sklearn.metrics import mean_squared_error\n",
    "from sklearn.preprocessing import LabelEncoder, StandardScaler\n",
    "from xgboost import XGBRegressor"
   ]
  },
  {
   "cell_type": "markdown",
   "id": "4565c887",
   "metadata": {},
   "source": [
    "## Load Data"
   ]
  },
  {
   "cell_type": "code",
   "execution_count": 2,
   "id": "081bec1e",
   "metadata": {},
   "outputs": [],
   "source": [
    "train = pd.read_csv(\"./data/train.csv\")\n",
    "test = pd.read_csv(\"./data/test.csv\")"
   ]
  },
  {
   "cell_type": "markdown",
   "id": "8383e8c3",
   "metadata": {},
   "source": [
    "## Save Test IDs"
   ]
  },
  {
   "cell_type": "code",
   "execution_count": 3,
   "id": "6be63bac",
   "metadata": {},
   "outputs": [],
   "source": [
    "test_ids = test[\"Id\"]"
   ]
  },
  {
   "cell_type": "markdown",
   "id": "0b794336",
   "metadata": {},
   "source": [
    "## Combine Train and Test for Feature Engineering"
   ]
  },
  {
   "cell_type": "code",
   "execution_count": 4,
   "id": "38d85b13",
   "metadata": {},
   "outputs": [],
   "source": [
    "all_data = pd.concat([train.drop(\"SalePrice\", axis=1), test], sort=False)\n",
    "all_data.drop(\"Id\", axis=1, inplace=True)"
   ]
  },
  {
   "cell_type": "markdown",
   "id": "89dc621d",
   "metadata": {},
   "source": [
    "## Impute Missing Values (Domain-Specific)"
   ]
  },
  {
   "cell_type": "code",
   "execution_count": 5,
   "id": "c014066d",
   "metadata": {},
   "outputs": [],
   "source": [
    "for col in all_data.columns:\n",
    "    if all_data[col].dtype == \"object\":\n",
    "        all_data[col] = all_data[col].fillna(\"None\")\n",
    "    else:\n",
    "        all_data[col] = all_data[col].fillna(all_data[col].median())"
   ]
  },
  {
   "cell_type": "markdown",
   "id": "0ef31440",
   "metadata": {},
   "source": [
    "## Label encode categorical features"
   ]
  },
  {
   "cell_type": "code",
   "execution_count": 6,
   "id": "6409f9ee",
   "metadata": {},
   "outputs": [],
   "source": [
    "for col in all_data.select_dtypes(include=\"object\"):\n",
    "    le = LabelEncoder()\n",
    "    all_data[col] = le.fit_transform(all_data[col].astype(str))"
   ]
  },
  {
   "cell_type": "markdown",
   "id": "d98f0327",
   "metadata": {},
   "source": [
    "## Feature engineering"
   ]
  },
  {
   "cell_type": "code",
   "execution_count": 7,
   "id": "6eb56fe3",
   "metadata": {},
   "outputs": [],
   "source": [
    "all_data[\"TotalSF\"] = all_data[\"TotalBsmtSF\"] + all_data[\"1stFlrSF\"] + all_data[\"2ndFlrSF\"]\n",
    "all_data[\"TotalBath\"] = (\n",
    "    all_data[\"FullBath\"] + all_data[\"BsmtFullBath\"] +\n",
    "    0.5 * (all_data[\"HalfBath\"] + all_data[\"BsmtHalfBath\"])\n",
    ")\n",
    "all_data[\"HouseAge\"] = all_data[\"YrSold\"] - all_data[\"YearBuilt\"]\n",
    "all_data[\"RemodAge\"] = all_data[\"YrSold\"] - all_data[\"YearRemodAdd\"]\n",
    "\n",
    "all_data[\"TotalSF\"] = all_data[\"TotalBsmtSF\"] + all_data[\"1stFlrSF\"] + all_data[\"2ndFlrSF\"]\n",
    "all_data[\"TotalBath\"] = (\n",
    "    all_data[\"FullBath\"] + all_data[\"BsmtFullBath\"] +\n",
    "    0.5 * (all_data[\"HalfBath\"] + all_data[\"BsmtHalfBath\"])\n",
    ")\n",
    "all_data[\"HouseAge\"] = all_data[\"YrSold\"] - all_data[\"YearBuilt\"]\n",
    "all_data[\"RemodAge\"] = all_data[\"YrSold\"] - all_data[\"YearRemodAdd\"]\n"
   ]
  },
  {
   "cell_type": "markdown",
   "id": "5c6e518e",
   "metadata": {},
   "source": [
    "## Log-transform skewed features"
   ]
  },
  {
   "cell_type": "code",
   "execution_count": 8,
   "id": "50215a00",
   "metadata": {},
   "outputs": [],
   "source": [
    "skewed_feats = all_data.apply(lambda x: x.skew()).sort_values(ascending=False)\n",
    "skewed = skewed_feats[abs(skewed_feats) > 0.75].index\n",
    "all_data[skewed] = np.log1p(all_data[skewed])"
   ]
  },
  {
   "cell_type": "markdown",
   "id": "6a0e51a4",
   "metadata": {},
   "source": [
    "## Split back to train/test"
   ]
  },
  {
   "cell_type": "code",
   "execution_count": 9,
   "id": "39caca55",
   "metadata": {},
   "outputs": [],
   "source": [
    "X = all_data.iloc[:train.shape[0], :]\n",
    "X_test = all_data.iloc[train.shape[0]:, :]\n",
    "y = np.log1p(train[\"SalePrice\"])"
   ]
  },
  {
   "cell_type": "markdown",
   "id": "bead8e50",
   "metadata": {},
   "source": [
    "## Standardize features"
   ]
  },
  {
   "cell_type": "code",
   "execution_count": 10,
   "id": "bb68c525",
   "metadata": {},
   "outputs": [],
   "source": [
    "scaler = StandardScaler()\n",
    "X = scaler.fit_transform(X)\n",
    "X_test = scaler.transform(X_test)"
   ]
  },
  {
   "cell_type": "markdown",
   "id": "912b36f7",
   "metadata": {},
   "source": [
    "## Model tuning (example, tune further for best results)"
   ]
  },
  {
   "cell_type": "code",
   "execution_count": 11,
   "id": "3abf343a",
   "metadata": {},
   "outputs": [],
   "source": [
    "model = XGBRegressor(\n",
    "    n_estimators=5000,\n",
    "    learning_rate=0.01,\n",
    "    max_depth=3,\n",
    "    subsample=0.7,\n",
    "    colsample_bytree=0.7,\n",
    "    random_state=42\n",
    ")"
   ]
  },
  {
   "cell_type": "markdown",
   "id": "ad25d889",
   "metadata": {},
   "source": [
    "## Cross-validation for robust score"
   ]
  },
  {
   "cell_type": "code",
   "execution_count": 12,
   "id": "5162981b",
   "metadata": {},
   "outputs": [
    {
     "name": "stdout",
     "output_type": "stream",
     "text": [
      "CV RMSE: 0.12485184972501502\n"
     ]
    }
   ],
   "source": [
    "kf = KFold(n_splits=5, shuffle=True, random_state=42)\n",
    "cv_scores = -cross_val_score(model, X, y, scoring=\"neg_root_mean_squared_error\", cv=kf)\n",
    "print(\"CV RMSE:\", np.mean(cv_scores))"
   ]
  },
  {
   "cell_type": "markdown",
   "id": "a35cba37",
   "metadata": {},
   "source": [
    "## Train on full data"
   ]
  },
  {
   "cell_type": "code",
   "execution_count": 13,
   "id": "723a24fa",
   "metadata": {},
   "outputs": [],
   "source": [
    "model.fit(X, y)\n",
    "preds = np.expm1(model.predict(X_test))"
   ]
  },
  {
   "cell_type": "markdown",
   "id": "22cabdd8",
   "metadata": {},
   "source": [
    "## Submission"
   ]
  },
  {
   "cell_type": "code",
   "execution_count": 14,
   "id": "2dd67fae",
   "metadata": {},
   "outputs": [
    {
     "name": "stdout",
     "output_type": "stream",
     "text": [
      "submission.csv ready! (./data/submission.csv)\n"
     ]
    }
   ],
   "source": [
    "submission = pd.DataFrame({\"Id\": test_ids, \"SalePrice\": preds})\n",
    "submission.to_csv(\"./data/submission.csv\", index=False)\n",
    "print(\"submission.csv ready! (./data/submission.csv)\")"
   ]
  }
 ],
 "metadata": {
  "kernelspec": {
   "display_name": ".venv",
   "language": "python",
   "name": "python3"
  },
  "language_info": {
   "codemirror_mode": {
    "name": "ipython",
    "version": 3
   },
   "file_extension": ".py",
   "mimetype": "text/x-python",
   "name": "python",
   "nbconvert_exporter": "python",
   "pygments_lexer": "ipython3",
   "version": "3.12.3"
  }
 },
 "nbformat": 4,
 "nbformat_minor": 5
}
